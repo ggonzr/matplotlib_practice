{
 "cells": [
  {
   "cell_type": "markdown",
   "metadata": {},
   "source": [
    "# Grafico funciones simbolicas\n",
    "\n",
    "En este tutorial graficaremos una función simbolica sencilla"
   ]
  },
  {
   "cell_type": "code",
   "execution_count": 1,
   "metadata": {},
   "outputs": [],
   "source": [
    "# Importar paquetes\n",
    "import sympy as sym\n",
    "import matplotlib.pyplot as plt\n",
    "import numpy as np"
   ]
  },
  {
   "cell_type": "code",
   "execution_count": 2,
   "metadata": {},
   "outputs": [
    {
     "name": "stdout",
     "output_type": "stream",
     "text": [
      "Funcion:\n"
     ]
    },
    {
     "data": {
      "text/latex": [
       "$\\displaystyle \\sin{\\left(0.2 x \\right)} + \\cos{\\left(0.2 x \\right)}$"
      ],
      "text/plain": [
       "sin(0.2*x) + cos(0.2*x)"
      ]
     },
     "execution_count": 2,
     "metadata": {},
     "output_type": "execute_result"
    }
   ],
   "source": [
    "# Configurar funcion #1\n",
    "a = 0.2\n",
    "b = 0.2\n",
    "x = sym.Symbol('x')\n",
    "f_x = sym.sin(a*x) + sym.cos(b*x)\n",
    "print(\"Funcion:\")\n",
    "f_x"
   ]
  },
  {
   "cell_type": "code",
   "execution_count": 3,
   "metadata": {},
   "outputs": [
    {
     "name": "stdout",
     "output_type": "stream",
     "text": [
      "Funcion Sigmoide: \n"
     ]
    },
    {
     "data": {
      "text/latex": [
       "$\\displaystyle \\frac{1}{1 + e^{- t}}$"
      ],
      "text/plain": [
       "1/(1 + exp(-t))"
      ]
     },
     "execution_count": 3,
     "metadata": {},
     "output_type": "execute_result"
    }
   ],
   "source": [
    "# Configurar funcion #2\n",
    "# Curva S-Shape\n",
    "\n",
    "t = sym.Symbol('t')\n",
    "f_t = 1/(1 + sym.exp(-t))\n",
    "print(\"Funcion Sigmoide: \")\n",
    "f_t"
   ]
  },
  {
   "cell_type": "markdown",
   "metadata": {},
   "source": [
    "## Grafico con Matplotlib\n",
    "\n",
    "A continuación computaremos los valores numericos de la función simbolica\n",
    "para crear un grafico usando matplotlib"
   ]
  },
  {
   "cell_type": "code",
   "execution_count": 4,
   "metadata": {},
   "outputs": [],
   "source": [
    "# Convertir la función simbolica para usar Numpy\n",
    "num_f_x = sym.lambdify(x, f_x, modules=['numpy'])\n",
    "# Crear un conjunto de valores entre [0, 100] en intervalos de 10\n",
    "x_vals = np.linspace(-np.pi, np.pi, 100)\n",
    "# Computar los valores de la función y\n",
    "y_vals = num_f_x(x_vals)\n",
    "\n",
    "# Funcion #2\n",
    "num_f_t = sym.lambdify(t, f_t, modules=['numpy'])\n",
    "# Crear un conjunto de valores entre [0, 100] en intervalos de 10\n",
    "x2_vals = np.linspace(-100, 100)\n",
    "# Computar los valores de la función y\n",
    "y2_vals = num_f_t(x2_vals)"
   ]
  },
  {
   "cell_type": "code",
   "execution_count": 5,
   "metadata": {},
   "outputs": [
    {
     "data": {
      "image/png": "[encoded data removed]",
      "text/plain": [
       "<Figure size 432x288 with 2 Axes>"
      ]
     },
     "metadata": {
      "needs_background": "light"
     },
     "output_type": "display_data"
    }
   ],
   "source": [
    "# Configurar el layout\n",
    "fig = plt.figure() # Figura principal\n",
    "layout = fig.add_gridspec(1,2)\n",
    "\n",
    "# Configuración del primer plano\n",
    "trig = fig.add_subplot(layout[0,0])\n",
    "trig.plot(x_vals, y_vals) # Graficar valores x, f(x) \n",
    "trig.set_ylabel(f_x) # Configurar la leyenda del grafico\n",
    "trig.set_xlabel('radianes')\n",
    "trig.set_title('Funciones trigonmetricas')\n",
    "\n",
    "# Configuración del segundo plano\n",
    "trig2 = fig.add_subplot(layout[0,1])\n",
    "trig2.plot(x2_vals, y2_vals) # Graficar valores x, f(x) \n",
    "trig2.set_ylabel(f_t) # Configurar la leyenda del grafico\n",
    "trig2.set_xlabel('Valores')\n",
    "trig2.set_title('S-Shape')\n",
    "\n",
    "# Mostrar graficas\n",
    "plt.show()"
   ]
  }
 ],
 "metadata": {
  "kernelspec": {
   "display_name": "Python [conda env:root] *",
   "language": "python",
   "name": "conda-root-py"
  },
  "language_info": {
   "codemirror_mode": {
    "name": "ipython",
    "version": 3
   },
   "file_extension": ".py",
   "mimetype": "text/x-python",
   "name": "python",
   "nbconvert_exporter": "python",
   "pygments_lexer": "ipython3",
   "version": "3.8.3"
  }
 },
 "nbformat": 4,
 "nbformat_minor": 4
}
